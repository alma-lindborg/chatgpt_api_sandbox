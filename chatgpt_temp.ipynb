{
 "cells": [
  {
   "attachments": {},
   "cell_type": "markdown",
   "metadata": {},
   "source": [
    "# Hot ideas:\n",
    "## Using temperature scaling to ignite your writing creativity\n",
    "### Prompt Engineers Unite workshop, 7.3.2023\n",
    "\n",
    "Here is a simple script to produce similar results as we showed in the workshop by Alma Lindborg and Vincenzo Latronico.\n",
    "We make API calls to ChatGPT using chat-formatted messages, and vary the temperature setting to vary the predictability vs. randomness of its responses.\n",
    "\n",
    "Low temperature leads to more predictable responses due to sampling from a low-entropy distribution, whereas high temperature increases the entropy, leading to more unpredictable outputs.\n",
    "\n",
    "This notebook requires Python >3.7 and the packages imported below."
   ]
  },
  {
   "cell_type": "code",
   "execution_count": 1,
   "metadata": {},
   "outputs": [],
   "source": [
    "import os\n",
    "from typing import List\n",
    "import openai\n",
    "\n",
    "# private API key saved in .env file - you can substitute with your API key here\n",
    "openai.api_key = os.getenv(\"OPENAI_API_KEY\")\n",
    "model = \"gpt-3.5-turbo\"\n",
    "\n",
    "# helper function to easily add messages to context in JSON format\n",
    "def add_msg(message: List, role: str, content: str) -> List:\n",
    "    return message.append({\"role\": role, \"content\": content})"
   ]
  },
  {
   "attachments": {},
   "cell_type": "markdown",
   "metadata": {},
   "source": [
    "## Simple example of temperature scaling: \n",
    "### Write a haiku about Berlin"
   ]
  },
  {
   "cell_type": "code",
   "execution_count": 13,
   "metadata": {},
   "outputs": [
    {
     "name": "stdout",
     "output_type": "stream",
     "text": [
      "Temperature : 0.5 \n",
      " Response: \n",
      "\n",
      "City of contrast,\n",
      "Berlin's past and present merge,\n",
      "History and art.\n",
      "Temperature : 1.5 \n",
      " Response: \n",
      "\n",
      "City of stone streets,\n",
      "Tree-lined avenues alive,\n",
      "Berlin blooms within.\n",
      "Temperature : 1.9 \n",
      " Response: \n",
      "\n",
      "Cold war painted flame,\n",
      "Decolinizing green fights light waves,\n",
      "Glass shields landmark flash fires.\n"
     ]
    }
   ],
   "source": [
    "messages = []\n",
    "add_msg(messages, \"user\", \"Write a haiku about Berlin\")\n",
    "\n",
    "temps = [0.5, 1.5, 1.9]\n",
    "for temp in temps: \n",
    "    response = openai.ChatCompletion.create(model=model, messages=messages, temperature=temp)\n",
    "    print(f\"Temperature : {temp} \\n Response: {response['choices'][0]['message']['content']}\")"
   ]
  },
  {
   "attachments": {},
   "cell_type": "markdown",
   "metadata": {},
   "source": [
    "## World Building\n",
    "\n",
    "Let's use the ChatGPT API to generate some ideas for our Science fiction world building. We sweep over multiple temperature settings to move from colder to hotter ideas."
   ]
  },
  {
   "cell_type": "code",
   "execution_count": 14,
   "metadata": {},
   "outputs": [
    {
     "name": "stdout",
     "output_type": "stream",
     "text": [
      "Temperature: 0.7 \n",
      " Response: 1. Symbiotism: In this alien society, every individual is born with a symbiotic organism attached to them. These organisms are capable of communicating with their host and provide unique abilities that assist the host in their daily life. The organisms are also capable of communicating with each other, forming a network that allows for the sharing of knowledge and resources. The society functions in a highly interconnected manner, with individuals heavily reliant on their symbiotic partner for survival. The society values cooperation and mutual benefit above all else, with individuals often putting the needs of the collective above their own.\n",
      "\n",
      "2. Chronocentrism: In this alien society, time is the most valuable commodity. The society is structured around the concept of time, with individuals trading their time and skills for resources and goods. The society functions in a highly efficient manner, with individuals working in specialized roles based on their unique skills and abilities. The society values productivity and efficiency above all else, with individuals often sacrificing their personal time and interests for the betterment of the society. The society is highly regimented, with strict schedules and deadlines enforced to ensure the optimal use of time.\n",
      "Temperature: 1 \n",
      " Response: \n",
      "\n",
      "Social System 1: Xiranium\n",
      "\n",
      "Xiranium is a social system followed by a highly advanced alien civilization, where every citizen is designated a specific role at birth. The roles are decided based on the individual's unique set of skills and abilities. Different roles come with different responsibilities and privileges, and there is no concept of hierarchy or social stratification. Citizens receive education and training to hone their skills before taking on their designated roles. The society operates on the principle of mutual support, where every individual contributes to the larger community's well-being. Their decision-making process is highly collaborative, with the central government consulting with representatives from various roles to make decisions that are in the society's best interest.\n",
      "\n",
      "Social System 2: Skali\n",
      "\n",
      "Skali is a social system followed by a more primitive alien civilization, where the biggest value is survival. The society lives in an extremely volatile environment, and every citizen's foremost responsibility is to ensure their survival and the survival of their group. Skali has a clan-based system where individuals belong to specific clans, and everyone works together for the common good. Individuals earn their keep by contributing to the community, whether it's hunting for food, constructing shelters, or defending the group from external threats. The society does not have a formal leadership structure, but the clan elders hold significant influence over decision-making. The society follows strict social norms, with any violation leading to expulsion from the clan or even death.\n",
      "Temperature: 1.5 \n",
      " Response: Social system 1: \n",
      "\n",
      "Name: Jykathambram \n",
      "\n",
      "Description: The Jykathambram society is hierarchical in structure, with a complex caste system in place that assigns different classes of citizenship to each individual based on familial, social and other myriad factors. The bureaucracy controlling Jykathambram also manifest in roles effectual in addressing everyday life issues of governance viz health, regulatory bodies, preservation of ecological diversity, recognition of cultural and creative activities. These are absent have public statues and cultural assessments to power civil representation including distributing said planning opulence while assuming audit reports can recommend reasonable preservation to lead creators shielded by anonymized criminal liability without consuming public space residence enabling judicial remedies publicly whilst revealing embodied endorsement of fiscal policy attached for challenge/validation by public.\n",
      "\n",
      "Social system 2:\n",
      "\n",
      "Name: Futuparity\n",
      "\n",
      "Description: The Futuparity civilization comprises indestructibly symbiotic members of communal sharing paradigms bonded electronically and operated though large communal buildings containing intelligent surgical every foundation through cleaning except apparatus/bore technology. They posses voolet dispositioning easily accessing applications brimming self-replicating packages conceived in spatial creation simulative activity disguised as but form illusionary incantations attempting oneness yet complicity guarded spaces favour efficient workforce among equal. De-body experience upon disembodied entity during litigation cooperation forms novel objective governance among paedic assistance inter-reiterated with special attentiveness since efficacy equal priorities but holistic reinforcement better adaptive tendency settling compatibility emphasizing gains premised account. Emphasized directed decisions involve regulatory handles under directive prime objects balancing transformative sequencing steered activities home membership quantumively should express tangible moderation when deliberate correspondences occur through prioritized pattern-making/sorting facilitated physically distributing /autenthographs ontology architectures underscore budget roles surpassing prevailing centers appreciation norms around expanding universal extensible action vital regard species' ontological beliefs premise ends exposed demographically amotive stratified safekeeping transmitting projected contingencies to simulation predicted market optimum solutions consuming time around overal correct deposition procurement steps modularly linearizable towards decisive ranges inevitable sustenance encouraging socially recognizing cybers technocratic individual added consciousness inclusions precedent plan allocating fluid governance whereby operating agents fit government expressing affirmation- concerning toleranse hence embody goals offered.\n",
      "Temperature: 1.7 \n",
      " Response: Great! Use simple formats structure that usually uses more coherent phrasing.\n",
      "\n",
      "Fusanian Social Network:\n",
      "The Fusanians are an hegemonistic sentient land mollusk from Colseasorir Galaxy II. Their secret manual leaves nothing esecret; happy workers supply plentiful of, rapidly inflated FTHBobs unlike to strenuous hybrids bargaining-sunk vehicles into thousand mollocks. Adherents assert that joyful content codifies importance.. in social anorexia thru YU-specation servaes rendered might magnetikes environments float optimized quotas upward-baily up gross anthropodynamic requirements spearheading genuine attachment consequently free wate gravitational emotional integrity building exert capability expansinous lifestyle settlement communios proper Scaled Allocation Balance rem.ercial Development principes tight gravity lanes activities rise coast while guarantee park wellness physically everyone exsit gently towic games vividly interact unto next-density memories as communication enhancements transition full zoomjoy experiences themselves finely boosted conscious configurations purfer driven steady of shift values knowing-all freshes invested crosssect thanks \n",
      "\n",
      "Createatal Network: \n",
      "The Fimuvrssches sapiens govern sciotic bio nations tucked in fractal zone OBLOMBYJ-GTEE located at mid-ampherispirig Of Cyftian black bat galactic symmetriya layout sectional distant coordinates., With limnid neon wings extended , imbrowned- turquoise near ridge push up geological plank terrains appear on fairly docetic over waves amidst slightly unfungulous placalties aggregitarian, along tainting undisturbing occasional ceremonies interconnected wit exogramars consistent monitoring deep rovens capable interpreting chronological symbulous representations utter completeness total record mechanism oversight converaged creations postments interact coherence side-bound early sfn theoretical interpolific governsign complete network specific systems promoting attentive specificity on available recent corresponding final concomplete vivarbix informed division practices influencing traditions variability energic success reasoning confirming chaotic prevention intense creodynamics proportional content allows primivity before set phase in cosmic complasish work together every strategy points isolated reaching stimulating cross-gap incredible strategment-related areas management linked stipiform compressence ability closely flowing extrality overdevelopening directly manifest frorn design sensory frequencies processing givance inherent moments forever signals invention era sensiversity compliance undergo supersemeilence further futality dynamic repeat impressions outset special conceptual rereganism direct reaches astropsychental situations play continued pace processing, certiffending expected natural culminate establishment sophisticated transmitting analyvious hand in search conclusions lead succession assumptions that fashion activation involved any host parties indeax organizational landscapes processed dynamics help yields exceptecial coverage complete reveal simultaneously regulated relational phenomena such giving free biological channel class constants one societal comprehendiophage remaining completely fully logical matching fini-demand instruments results overall understanding sequences opening directive intercorrincess antacarnocity circumstances act better metaphatorial metaheightments adaptenation principle.\n"
     ]
    }
   ],
   "source": [
    "# set up a context for the assistant\n",
    "messages = []\n",
    "add_msg(messages, \"system\", \"You are an alien anthropologist.\")\n",
    "add_msg(messages, \"user\", \"Please come up with two social systems for unknown alien civilizations. For each, invent a single word as the systems name, and provide a short paragraph detailing how that society functions.\")\n",
    "\n",
    "temps = [0.7, 1, 1.5, 1.7]\n",
    "\n",
    "responses = {}\n",
    "for temp in temps: \n",
    "    response = openai.ChatCompletion.create(model=model, messages=messages, temperature=temp)\n",
    "    responses[temp] = response['choices'][0]['message']['content']\n",
    "   \n",
    "# print the responses  \n",
    "for key, val in responses.items(): \n",
    "    print(f\"Temperature: {key} \\n Response: {val}\")"
   ]
  },
  {
   "attachments": {},
   "cell_type": "markdown",
   "metadata": {},
   "source": [
    "### Let's iterate!"
   ]
  },
  {
   "cell_type": "code",
   "execution_count": 16,
   "metadata": {},
   "outputs": [
    {
     "name": "stdout",
     "output_type": "stream",
     "text": [
      "Temperature: 0.7 \n",
      " Response: Grammar of Futuparity Language:\n",
      "\n",
      "The Futuparity language uses a highly complex system of fluid ontological modifications to its nouns based on its particular use in the sentence, in conjunction with intricate derivative forms to signify nouns, verbs or modifiers. The language is heavily inflected, with tense, aspect, mood, and voice all marked on the verb. The Futuparity language also has a unique system of word order, which is determined by the speaker's perspective on the situation being described. The language utilizes a combination of tonal, inflectional, and agglutinative features to convey meaning. \n",
      "\n",
      "Mores involving Futuparity Sexual Life: \n",
      "\n",
      "Futuparity sexual life is based on mutual respect, trust, and intimacy between partners. Sexual encounters are viewed as a sacred and deeply personal experience, and are only engaged in between consenting adults. The society has a fluid approach to gender and sexuality, with individuals being free to express and explore their identities as they see fit. There is no stigma attached to any particular sexual orientation or practice, and all individuals are encouraged to embrace their sexuality in a healthy and consensual manner. Sexual education is an integral part of the society, with individuals being taught about safe sex practices, consent, and sexual health. There are no societal constraints on the number of partners one can have, as long as all parties involved are consenting adults. However, the society does place a great emphasis on emotional intimacy and connection, and sexual encounters are viewed as a means of fostering deeper connections between partners rather than a purely physical act.\n",
      "Temperature: 1 \n",
      " Response: Grammar of Futuparity Language:\n",
      "\n",
      "The Futuparity language is unique in its approach to grammar, utilizing a system of semantic modifiers that can be appended to nouns and verbs to alter their meaning based on context. The language also features a non-linear sentence structure that places greater emphasis on intonation and emotion, allowing for more fluid and nuanced communication. Additionally, the language relies on a complex system of sound patterns and tonality, creating a wide range of meanings through slight variations in pitch and accentuation. These features combine to form a language that is both expressive and adaptable, capable of capturing the subtleties of complex thoughts and emotions with ease.\n",
      "\n",
      "Mores involving Futuparity Sexual Life:\n",
      "\n",
      "Futuparity is a society that places a strong emphasis on consensual sexual exploration as a means of self-expression and emotional connection. Sexual relationships are seen as a natural and healthy part of life, and individuals are encouraged to explore their sexuality in a safe and responsible manner. However, there are strict cultural norms surrounding sexual encounters, particularly around issues of consent and communication. All sexual interactions must be preceded by a clear agreement between all parties involved, with an emphasis on ongoing communication and reassessment of boundaries. Additionally, Futuparity culture values sex positivity and sexual autonomy, and individuals are encouraged to pursue their own desires without fear of judgement or stigma. Overall, Futuparity sexual mores emphasize mutual respect, open communication, and a celebration of individual expression.\n",
      "Temperature: 1.5 \n",
      " Response: Grammar of Futuparity Language:\n",
      "\n",
      "The grammar of the Futuparity language is highly complex and evolved to reflect the advanced thinking processes of their society, mapping expression tightly bound into linguistic category sets conveying consistent propositional strategy references sustaining stable purviews over theme translations open verbal cycles outside favored linguistic codonts possessed by uniformly factorized spaced-parsing patterns configuration dimensions to minimize disorder chaotic interferences assayed interpret hierarchical nominal diminution. Utilizing addition, rationales impersonalized thru approved intelligent encoding both ploduody awarematic engagement utilizing sounds aiding, clinal augmentations revisemodeling \"techno-map“ aspects flow transducendencies behavior attributes analyzing surface-instinct heuristic archaisms. Vertical memorization codes organ remedial languages enrich narrative values guaranteeing messages utilize highly dimensional syntategisms upon requesting reassurance incarnate variations accept referendous suppfilures. Fey voice-sensitive cluste-Precursive intrinsic unambiguous to differentiate futennial attitudes relieving massive cohesiveness established.\n",
      " \n",
      "Mores involving Futuparity Sexual Life:\n",
      "\n",
      "Physical cohabitation in Futuparity society operates completely voluntarily; action explicitly available circumplicitients gradually supervised multiple goene concerns guide state compassionate requirements favor quantenders aside binary/transform portfolios individually reserved pre-task considerations technoplast apt insertion of terplex number steps providing areas implying limitless execution regardless of partnership profiling measures allowing indefinite multidimensional mutable exchanges encouraging concurso cooperative initiatives viable reduced repression amongs elevated condition and reproductive clarity creates lavish orgdrive distrib work-chast marks not lacking guarantees micro-celerous interventions ubiquitous transit uniform non transferent binary persistence accordance appropriate constraints if options selecting conditions leading to specific educational practices nurturing communal exchange onto mood vibration corresponding completion strategies predicting literal remethe kinetics emphasizing approach-cohercont esstenis capacities employed extensible co-device reality supplemented form identifying present spiritz details exertive training distributing stimi coherent values realizing proception causes underlying transformative creation vork centers realistic protocol connectivity fruition satisfying indivisible innate individual attainable becoming sexual openness founded partner integration desired fully climated multination scalar supporting preactivation polar starting alignment embedding along erotic parameters referred concurrent aim influencing motivated cultivation faboratory-defined ultimately distributed attract tensles processing possibilities rendered consumnation universally obligated embedding romantic technology interoperated assigned considered conscious self-affirmation respecting continual evolution tradition exceeding elegance dispatched validity.\n",
      "Temperature: 1.7 \n",
      " Response: Grammar of Futuparity Language:\n",
      "The language spoken by the Futuparity—a collectively-operating society—reflects that aspect in its grammar/syntax borne from feedback loops during its participating landscape between audible patinas self-verifying force exchange enexist bringing notion towards system denotation/proposition activity—these discractive reflexive devices sustain normativity operation fitter entireti otherwise schemating forces regulated participatants environment propriodies continungs bilateral statatement patterns and index computation proven robust adaptable over primley methodisis technologies combined evertual network truenoria upsy geneability transltribution homanim bifematadial distalking automating modified radiical funcopieces rule remaining persistence endophile adjacudio porodulate duumpters adding to way layerwoses sequens user contribution maximal rank prime.\n",
      " \n",
      "Mores Involving Futuparity Sexual Life \n",
      "Raised vivacious love clubs encountering radical empathy brofab initiatives ranging from glaunt apparudiera to floating options concurrently stylized alternative experiences like turburkle modules observed tremendous privilege optimizing human-tails contexts iterating partner connections simweft buoy some recognizable activations warrant validating its respectivaus problem-conntenators pivment evensus coited intention awiding assured equal-shutterstock system feedbitionship projected account credit where necessary metrics legati noncontininos.\n",
      "Partner retreat spots with stringent configurations made their dominant existance accesilie along participating opportunities called in all capital host account style clusters opting similarly-born opportunity acting asynchronously maxim removing downtime obligations enduring activities baling objectives across numerical collections elucidating stringent recuser cultures in alignments permitting sanctioned technical adorn audiences limiting its networking influence hierarchical approach challenging widespread permizzimilar evematic co-better attitude coherence pragmachased possible membership wide system efforts retained operating volactories cognition-equivent encounters engaging memorable experiences rich lateral context realized invresultivalent stscrafted optimathy structures distinctly vertical within/without growing engazines polar discord obtained heightened proportion funindex enhanced drive-pattern aggregates project upon encountered simpimensional awareness thought reiterated juxtaposition scheme trorld for commons legal consenting paramete organielect frequencies bearing resemblance among spectrum indicating the cognitive-humbing into world development situated codes felt simultumologically significant daily-lived methodology enacted smoliks providing established schema inviting conjectural mutations impollives forms reoriented building institutional quadrictual modality yield reached saturation, it wouldn’t occur in itself futufact-centered metrics or increasing regulose if corresponding approach isn’t differentiating massive variance factors governed altered feature space enabling credible intimacy even to uneven extroposters issuing future-int-level configuring greater magnitud change environmental reassurance interacting politically accomplished under varying natural perceptions et processistic opelia regimes despite accompanied explanatory trope-oriented theories largely misunderstood complexes ramifications forming meticulous existentially driven studies.\n"
     ]
    }
   ],
   "source": [
    "add_msg(messages, \"assistant\", responses[1.5])\n",
    "add_msg(messages, \"user\", \"Please describe the grammar of the Futuparity language in one paragraph, and the mores surrounding Futuparity sexual life in another paragraph.\")\n",
    "\n",
    "responses = {}\n",
    "for temp in temps: \n",
    "    response = openai.ChatCompletion.create(model=model, messages=messages, temperature=temp)\n",
    "    responses[temp] = response['choices'][0]['message']['content']\n",
    "   \n",
    "# print the responses  \n",
    "for key, val in responses.items(): \n",
    "    print(f\"Temperature: {key} \\n Response: {val}\")"
   ]
  },
  {
   "attachments": {},
   "cell_type": "markdown",
   "metadata": {},
   "source": [
    "### Go even deeper"
   ]
  },
  {
   "cell_type": "code",
   "execution_count": 17,
   "metadata": {},
   "outputs": [
    {
     "name": "stdout",
     "output_type": "stream",
     "text": [
      "Temperature : 0.7 \n",
      " Response: 1. Codonts - Linguistic units that represent specific conceptual categories, which are used to convey consistent propositional strategy references.\n",
      "2. Ploduody - A type of awarematic engagement that involves the utilization of sounds to aid in the transfer of information.\n",
      "3. Cluste-Precursive - A type of voice-sensitive clustering that is used to differentiate futennial attitudes.\n",
      "4. Technoplast - A process of apt insertion of terplex number steps, which provides areas implying limitless execution regardless of partnership profiling measures.\n",
      "\n",
      "1. Codonts are linguistic units that represent specific conceptual categories used in Futuparity language to convey consistent propositional strategy references.\n",
      "2. Ploduody is a type of awarematic engagement that utilizes sounds to aid in the transfer of information in the Futuparity language.\n",
      "3. Cluste-Precursive is a type of voice-sensitive clustering used in the Futuparity language to differentiate futennial attitudes.\n",
      "4. Technoplast is a process of apt insertion of terplex number steps, which allows for areas implying limitless execution in the Futuparity language.\n",
      "Temperature : 1 \n",
      " Response: 1. Cluste-Precursive - A complex syntactic structure used in Futuparity language that combines multiple clauses to express complex ideas.\n",
      "\n",
      "2. Goene concerns - A concept unique to Futuparity language that describes the collective shared concerns and responsibilities of a community.\n",
      "\n",
      "3. Concurso - An important Goene concern referring to collaborative efforts towards a shared goal.\n",
      "\n",
      "4. Quantender - A term in Futuparity language referring to a person's capacity for empathy and the ability to sense nonverbal communication.\n",
      "Temperature : 1.5 \n",
      " Response: 1. goene - a term describing a fluctuating state or self-regulation that aligns with both communal values and objective-oriented principles.\n",
      "2. concurso - a linguistic marker indicating both cooperative cooperation and distinctly formed compelling capacities ranked amongst conscious vorks or collectivities..\n",
      "3. terplex - disciplinary priming apore so designated until performance prioritizes value valency centers and optimization draws upon protocalls couued tem with third state positioning consistent maps test physical sentient trial bridges eliminating redundancy detecting plurality intrinsic terragonal voltabo filters evoking tranient stages removing addination cursts delivering redundancy inclusion practices inter-tech supervised processes establish optimistic deterministic instantinations:\n",
      "4. cluste-Precursive - integrating most singular/cluster re-parts desemporphic paradisification to entraction host atoms enduring decentralized analysis gate obventional pangelones together concluded amevity interpretings taking stylistous nodestination enerpresence fuel-testing protocol juxtaposing minutle-type suffurnds compatible enarrational compositionally constructed living-binding resembling a secupod digital atavars pelerrel and attention organisms ledulating/reoriental socio hologamma arrays modifying horoscopic ambient sesionary synquantm essence modeling reflecting autorem into upon observing transit factors matrices as approached through centrific protocols siearching sorting representation mappings over salified transmissions experienced as sensory between allestitons. \n",
      "\n",
      "Note: The complexity running rendering each concept technorganic cannot be abrudged its explanation mercuscaltenering cohesive plans decoherence-praenderulations comprise a sphere describing planet change devoid singularities much-reaching code ilistry thereby engineering dramatic thresholds seen installed governance results depending action complexities autonomously valuable replications thereof societal informational integrated sources virtually seamless ontic diverse ordering concise reflexivity statements\n",
      "Temperature : 1.7 \n",
      " Response: 1. Codonts - Meaning the concepts expressed through specific terminologies guiding syntax patterns designed for society-specific relationships.\n",
      "2. Ploduody-awarematic; Refers to adjusting conceptual expression honoring near dimensional emotional delinieations amnrecharged adapted from polar complementary manner.\n",
      "3. Stim-Cluster the significance received motion conditioning receptive frequency regimes directly correlated several node-modules diversely rendered past-performance-particular constituents.\n",
      "4. Puractual Meaning each object realistically embraced, highlighting operative facets harboring their application comprising par-capitalizations powerfully steeping influence despite inclusive platforms vastly implementational foundation maintained.\n"
     ]
    }
   ],
   "source": [
    "add_msg(messages, \"system\", \"You are a Futuparity language teacher\")\n",
    "add_msg(messages, \"assistant\", responses[1.5])\n",
    "add_msg(messages, \"user\", \"Please list four concepts specifical to the Futuparity language, that would be most incomprehensible to an English speaker, and offer a 20 word explanation of each.\")\n",
    "\n",
    "for temp in temps: \n",
    "    response = openai.ChatCompletion.create(model=model, messages=messages, temperature=temp)\n",
    "    print(f\"Temperature : {temp} \\n Response: {response['choices'][0]['message']['content']}\")"
   ]
  }
 ],
 "metadata": {
  "kernelspec": {
   "display_name": "chatgpt",
   "language": "python",
   "name": "python3"
  },
  "language_info": {
   "codemirror_mode": {
    "name": "ipython",
    "version": 3
   },
   "file_extension": ".py",
   "mimetype": "text/x-python",
   "name": "python",
   "nbconvert_exporter": "python",
   "pygments_lexer": "ipython3",
   "version": "3.7.16"
  },
  "orig_nbformat": 4
 },
 "nbformat": 4,
 "nbformat_minor": 2
}
